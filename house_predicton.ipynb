{
  "cells": [
    {
      "cell_type": "markdown",
      "metadata": {
        "id": "view-in-github",
        "colab_type": "text"
      },
      "source": [
        "<a href=\"https://colab.research.google.com/github/mlarunreddy/chennai-house-price-pridiction/blob/main/house_predicton.ipynb\" target=\"_parent\"><img src=\"https://colab.research.google.com/assets/colab-badge.svg\" alt=\"Open In Colab\"/></a>"
      ]
    },
    {
      "cell_type": "markdown",
      "metadata": {
        "id": "VAjvqAnaRWZh"
      },
      "source": [
        "**The aim of the project is to help customer predict home prices in chennai**"
      ]
    },
    {
      "cell_type": "markdown",
      "metadata": {
        "id": "rHLj9AR6jG-s"
      },
      "source": [
        "Importing Required Pacages"
      ]
    },
    {
      "cell_type": "code",
      "execution_count": null,
      "metadata": {
        "colab": {
          "background_save": true
        },
        "id": "VculFptpY8vo"
      },
      "outputs": [],
      "source": [
        "import pandas as pd\n",
        "import seaborn as sns\n",
        "import warnings\n",
        "warnings.filterwarnings('ignore')\n",
        "%matplotlib inline\n",
        "from sklearn.linear_model import LinearRegression\n",
        "from sklearn.model_selection import train_test_split\n",
        "from sklearn.preprocessing import StandardScaler\n",
        "from sklearn import metrics\n",
        "from sklearn.neighbors import KNeighborsRegressor\n",
        "from sklearn.model_selection import cross_val_score\n",
        "from sklearn.metrics import r2_score\n",
        "from sklearn.tree import DecisionTreeRegressor\n",
        "from sklearn.ensemble import RandomForestRegressor\n",
        "import xgboost as xgb\n",
        "from xgboost import XGBRegressor\n",
        "import numpy as np\n",
        "import matplotlib.pyplot as plt \n",
        "import io\n",
        "from google.colab import files "
      ]
    },
    {
      "cell_type": "markdown",
      "metadata": {
        "id": "C8Vgcph1jTg7"
      },
      "source": [
        "Loding The Dataset"
      ]
    },
    {
      "cell_type": "code",
      "execution_count": null,
      "metadata": {
        "colab": {
          "base_uri": "https://localhost:8080/",
          "height": 56,
          "resources": {
            "http://localhost:8080/nbextensions/google.colab/files.js": {
              "data": "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",
              "headers": [
                [
                  "content-type",
                  "application/javascript"
                ]
              ],
              "ok": true,
              "status": 200,
              "status_text": "OK"
            }
          }
        },
        "id": "VnLbppSfZg35",
        "outputId": "5e47f0dd-100a-4c6d-f34b-0a4c88e7ef5a"
      },
      "outputs": [
        {
          "data": {
            "text/html": [
              "\n",
              "     <input type=\"file\" id=\"files-861d2609-ec75-4a60-91c8-d7bd79925cdc\" name=\"files[]\" multiple disabled\n",
              "        style=\"border:none\" />\n",
              "     <output id=\"result-861d2609-ec75-4a60-91c8-d7bd79925cdc\">\n",
              "      Upload widget is only available when the cell has been executed in the\n",
              "      current browser session. Please rerun this cell to enable.\n",
              "      </output>\n",
              "      <script src=\"/nbextensions/google.colab/files.js\"></script> "
            ],
            "text/plain": [
              "<IPython.core.display.HTML object>"
            ]
          },
          "metadata": {},
          "output_type": "display_data"
        }
      ],
      "source": [
        "uploaded_file=files.upload()\n"
      ]
    },
    {
      "cell_type": "code",
      "execution_count": null,
      "metadata": {
        "id": "0L5BV-Bj-7sP"
      },
      "outputs": [],
      "source": [
        "df=pd.read_csv(io.BytesIO(uploaded_file['train chennai sale.csv']))"
      ]
    },
    {
      "cell_type": "code",
      "execution_count": null,
      "metadata": {
        "id": "5rBgUOFfAJnh"
      },
      "outputs": [],
      "source": [
        "df.head()"
      ]
    },
    {
      "cell_type": "code",
      "execution_count": null,
      "metadata": {
        "id": "Rbh3w9SMAOJs"
      },
      "outputs": [],
      "source": [
        "df.info()"
      ]
    },
    {
      "cell_type": "code",
      "execution_count": null,
      "metadata": {
        "id": "hthi00VbAS82"
      },
      "outputs": [],
      "source": [
        "df.describe()"
      ]
    },
    {
      "cell_type": "markdown",
      "metadata": {
        "id": "LiE0NxS9jch8"
      },
      "source": [
        "Checking Missing Values"
      ]
    },
    {
      "cell_type": "code",
      "execution_count": null,
      "metadata": {
        "id": "OC82FrTLHCaS"
      },
      "outputs": [],
      "source": [
        "df.isnull().sum()"
      ]
    },
    {
      "cell_type": "markdown",
      "metadata": {
        "id": "4zxU6zWTSBYp"
      },
      "source": [
        "**Data Cleaning**"
      ]
    },
    {
      "cell_type": "code",
      "execution_count": null,
      "metadata": {
        "id": "hGtq3LiQHPzc"
      },
      "outputs": [],
      "source": [
        "df.drop_duplicates().shape"
      ]
    },
    {
      "cell_type": "markdown",
      "metadata": {
        "id": "EOkUeeIgSQfN"
      },
      "source": [
        "Missing Value Handeling"
      ]
    },
    {
      "cell_type": "code",
      "execution_count": null,
      "metadata": {
        "id": "8pCD9zSzi5DE"
      },
      "outputs": [],
      "source": []
    },
    {
      "cell_type": "code",
      "execution_count": null,
      "metadata": {
        "id": "gfdIt3NpHoAP"
      },
      "outputs": [],
      "source": [
        "df['N_BATHROOM'].fillna(df['N_BATHROOM'].mode()[0],inplace=True)\n",
        "df['N_BEDROOM'].fillna(df['N_BEDROOM'].mode()[0],inplace=True)\n",
        "df.QS_OVERALL = df.QS_OVERALL.fillna(df.QS_OVERALL.mean())"
      ]
    },
    {
      "cell_type": "code",
      "execution_count": null,
      "metadata": {
        "id": "0qtkbT9AJ3Bm"
      },
      "outputs": [],
      "source": [
        "df.isnull().sum()"
      ]
    },
    {
      "cell_type": "markdown",
      "metadata": {
        "id": "ltRsyIQOkAIo"
      },
      "source": []
    },
    {
      "cell_type": "code",
      "execution_count": null,
      "metadata": {
        "id": "8ZS2fJ6CkM6C"
      },
      "outputs": [],
      "source": [
        "df.columns"
      ]
    },
    {
      "cell_type": "code",
      "execution_count": null,
      "metadata": {
        "id": "cJy5tQv-KALx"
      },
      "outputs": [],
      "source": [
        "df['UTILITY_AVAIL'].unique()"
      ]
    },
    {
      "cell_type": "code",
      "execution_count": null,
      "metadata": {
        "id": "yf0frsf8Wh-Z"
      },
      "outputs": [],
      "source": [
        "nf=df.drop(['PRT_ID','REG_FEE','COMMIS'],axis=1)"
      ]
    },
    {
      "cell_type": "code",
      "execution_count": null,
      "metadata": {
        "id": "dhtIxeEhbxGc"
      },
      "outputs": [],
      "source": []
    },
    {
      "cell_type": "code",
      "execution_count": null,
      "metadata": {
        "id": "kO4fCMUoXCdK"
      },
      "outputs": [],
      "source": [
        "nf.head()"
      ]
    },
    {
      "cell_type": "markdown",
      "metadata": {
        "id": "6GfBG98elG7-"
      },
      "source": [
        "Checking Data Types"
      ]
    },
    {
      "cell_type": "code",
      "execution_count": null,
      "metadata": {
        "id": "eDAdVtbowWE-"
      },
      "outputs": [],
      "source": [
        "nf.dtypes"
      ]
    },
    {
      "cell_type": "markdown",
      "metadata": {
        "id": "RIRJWpNNlUnM"
      },
      "source": [
        "Changing To Proper Datatype"
      ]
    },
    {
      "cell_type": "code",
      "execution_count": null,
      "metadata": {
        "id": "ugQZDNCZwzcg"
      },
      "outputs": [],
      "source": [
        "nf['N_BEDROOM']=nf['N_BEDROOM'].astype(int)\n",
        "nf['N_BATHROOM']=nf['N_BATHROOM'].astype(int)"
      ]
    },
    {
      "cell_type": "code",
      "execution_count": null,
      "metadata": {
        "id": "8DdJLaG3MoJI"
      },
      "outputs": [],
      "source": [
        "nf.dtypes"
      ]
    },
    {
      "cell_type": "code",
      "execution_count": null,
      "metadata": {
        "id": "m4ESM6ZvNJ6I"
      },
      "outputs": [],
      "source": [
        "df=nf"
      ]
    },
    {
      "cell_type": "markdown",
      "metadata": {
        "id": "njyTMqBhnsAH"
      },
      "source": [
        "Creating Age of the building column based on the date sale and datebuild columns"
      ]
    },
    {
      "cell_type": "code",
      "execution_count": null,
      "metadata": {
        "id": "-TItH0C_NPM1"
      },
      "outputs": [],
      "source": [
        "df['AGE']=pd.DatetimeIndex(df['DATE_SALE']).year-pd.DatetimeIndex(df['DATE_BUILD']).year"
      ]
    },
    {
      "cell_type": "code",
      "execution_count": null,
      "metadata": {
        "id": "b-nj-Np6NzGD"
      },
      "outputs": [],
      "source": [
        "df.dtypes"
      ]
    },
    {
      "cell_type": "markdown",
      "metadata": {
        "id": "Rta_sM415b78"
      },
      "source": [
        "All the columns are changed to proper Datatype"
      ]
    },
    {
      "cell_type": "code",
      "execution_count": null,
      "metadata": {
        "id": "PoyLvZtTOMXD"
      },
      "outputs": [],
      "source": [
        "df.head()"
      ]
    },
    {
      "cell_type": "markdown",
      "metadata": {
        "id": "Oo30tKWX5uxq"
      },
      "source": [
        "Describing the Numerical Value"
      ]
    },
    {
      "cell_type": "code",
      "execution_count": null,
      "metadata": {
        "id": "S07CB4FfOTrz"
      },
      "outputs": [],
      "source": [
        "df.describe()"
      ]
    },
    {
      "cell_type": "markdown",
      "metadata": {
        "id": "2qrcNge-4boc"
      },
      "source": [
        "checking the Outliers"
      ]
    },
    {
      "cell_type": "code",
      "execution_count": null,
      "metadata": {
        "id": "Re29hCRqOXc0"
      },
      "outputs": [],
      "source": [
        "sns.boxplot(df['SALES_PRICE'])"
      ]
    },
    {
      "cell_type": "code",
      "execution_count": null,
      "metadata": {
        "id": "RVj-cS93XTTU"
      },
      "outputs": [],
      "source": [
        "nf.loc[nf['STREET']=='Pavad','STREET']='Paved'\n",
        "nf.loc[nf['STREET']=='NOAccsess','STREET']='No Access'\n",
        "nf[\"STREET\"].unique()"
      ]
    },
    {
      "cell_type": "code",
      "execution_count": null,
      "metadata": {
        "id": "VotT46UlYX5V"
      },
      "outputs": [],
      "source": [
        "st_s=nf.groupby('STREET')['SALES_PRICE'].mean()\n",
        "st_s"
      ]
    },
    {
      "cell_type": "code",
      "execution_count": null,
      "metadata": {
        "id": "vguxb4oCY1bc"
      },
      "outputs": [],
      "source": [
        "st_s.plot(kind='bar',title='House Price in STREET',ylabel='Mean Price',\n",
        "          xlabel='Street',figsize=(6,5))"
      ]
    },
    {
      "cell_type": "markdown",
      "metadata": {
        "id": "loHZ5WYG6Bay"
      },
      "source": [
        "Findind  IQR"
      ]
    },
    {
      "cell_type": "code",
      "execution_count": null,
      "metadata": {
        "id": "4GAV_YZSvrXh"
      },
      "outputs": [],
      "source": [
        "percentile25 =df['SALES_PRICE'].quantile(0.25)\n",
        "percentile75 = df['SALES_PRICE'].quantile(0.75)\n",
        "print(\"25th percentile of the data is\",percentile25)\n",
        "print(\"75th percentile of the data is \",percentile75)\n",
        "print(\"IQR:\",percentile75-percentile25)"
      ]
    },
    {
      "cell_type": "markdown",
      "metadata": {
        "id": "gNZKZXCH6QgM"
      },
      "source": [
        "Calculating the MIN and MAX Limits"
      ]
    },
    {
      "cell_type": "code",
      "execution_count": null,
      "metadata": {
        "id": "Svwyv6iJQC5W"
      },
      "outputs": [],
      "source": [
        "max_value=percentile75 + 1.5 * (percentile75-percentile25)\n",
        "min_value=percentile25 - 1.5*(percentile75-percentile25)\n",
        "print(max_value)\n",
        "print(min_value)"
      ]
    },
    {
      "cell_type": "markdown",
      "metadata": {
        "id": "8a7j_G3A6cBL"
      },
      "source": [
        "Removing Outliers by using Capping Technique"
      ]
    },
    {
      "cell_type": "code",
      "execution_count": null,
      "metadata": {
        "id": "Tj_oeVz7fJZo"
      },
      "outputs": [],
      "source": [
        "df['SALES_PRICE']=np.where(\n",
        "    df['SALES_PRICE']>max_value,\n",
        "    max_value,\n",
        "    np.where(\n",
        "        df['SALES_PRICE']<min_value,\n",
        "        min_value,\n",
        "        df['SALES_PRICE']\n",
        "                               \n",
        "    )   \n",
        ")\n",
        "df['SALES_PRICE'].describe()\n"
      ]
    },
    {
      "cell_type": "code",
      "execution_count": null,
      "metadata": {
        "id": "3PELr7hqgblK"
      },
      "outputs": [],
      "source": [
        "sns.boxplot(df['SALES_PRICE'])"
      ]
    },
    {
      "cell_type": "code",
      "execution_count": null,
      "metadata": {
        "id": "QVzep5Oa9LxA"
      },
      "outputs": [],
      "source": [
        "print(df['AREA'].unique())\n",
        "print(df['SALES_PRICE'].unique())\n",
        "print(df['PARK_FACIL'].unique())\n",
        "print(df['BUILDTYPE'].unique())\n",
        "print(df['UTILITY_AVAIL'].unique())\n",
        "print(df['STREET'].unique())\n",
        "print(df['MZZONE'].unique())"
      ]
    },
    {
      "cell_type": "code",
      "execution_count": null,
      "metadata": {
        "id": "9-xw9AmQ-0Mv"
      },
      "outputs": [],
      "source": [
        " df['AREA'].replace(['Karapakam'],'Karapakkam',inplace=True)\n",
        " df['AREA'].replace(['Ana Nagar','Ana Nagar','Ann Nagar'],'Anna Nagar',inplace=True)\n",
        " df['AREA'].replace(['Adyr'],'Adyar',inplace=True)\n",
        " df['AREA'].replace(['Velchery'],'Velachery',inplace=True)\n",
        " df['AREA'].replace(['Chrompet','Chrmpet','Chrompt'],'Chrompet',inplace=True)\n",
        " df['AREA'].replace(['KKNagar'],'KK Nagar',inplace=True)\n",
        " df['AREA'].replace(['TNagar'],'T Nagar',inplace=True)\n",
        "\n",
        " df['SALE_COND'].replace(['Ab Normal'],'Abnormal',inplace=True)\n",
        " df['SALE_COND'].replace(['PartiaLl','Partiall'],'Partial',inplace=True)\n",
        " df['SALE_COND'].replace(['Adj Land'],'Adjland',inplace=True)\n",
        "\n",
        " df['PARK_FACIL'].replace(['Noo'],'No',inplace=True)\n",
        "\n",
        " df['BUILDTYPE'].replace(['Others'],'Other',inplace=True)\n",
        " df['BUILDTYPE'].replace(['Comercial','commercial'],'commercial',inplace=True)\n",
        " \n",
        " df['UTILITY_AVAIL'].replace(['AllPub'],'All Pub',inplace=True)\n",
        " df['UTILITY_AVAIL'].replace(['NoSewr','NoSeWa'],'NoSewr',inplace=True)\n",
        "\n",
        "df['STREET'].replace(['Pavd'],'Paved',inplace=True)\n",
        "df['STREET'].replace(['NoAccess'],'No Access',inplace=True)"
      ]
    },
    {
      "cell_type": "code",
      "execution_count": null,
      "metadata": {
        "id": "6Na7PssMH7xT"
      },
      "outputs": [],
      "source": [
        "print(df['AREA'].unique())\n",
        "print(df['SALES_PRICE'].unique())\n",
        "print(df['PARK_FACIL'].unique())\n",
        "print(df['BUILDTYPE'].unique())\n",
        "print(df['UTILITY_AVAIL'].unique())\n",
        "print(df['STREET'].unique())\n",
        "print(df['MZZONE'].unique())"
      ]
    },
    {
      "cell_type": "markdown",
      "metadata": {
        "id": "x4vzg1AW8uM3"
      },
      "source": [
        "After correcting all spelling mistakes in catagorical column,the above are the unique names."
      ]
    },
    {
      "cell_type": "code",
      "execution_count": null,
      "metadata": {
        "id": "jFtXH_vUJagH"
      },
      "outputs": [],
      "source": [
        "df.columns"
      ]
    },
    {
      "cell_type": "markdown",
      "metadata": {
        "id": "BcU2ey6T9kn-"
      },
      "source": [
        "Exploteory data analasis"
      ]
    },
    {
      "cell_type": "markdown",
      "metadata": {
        "id": "4ZHYpbio9kIu"
      },
      "source": [
        "EDA for Catagorical Columns"
      ]
    },
    {
      "cell_type": "code",
      "execution_count": null,
      "metadata": {
        "id": "nlGpUsglKJ6H"
      },
      "outputs": [],
      "source": [
        "plt.figure(figsize=(14,10))\n",
        "sns.heatmap(df.corr(),annot=True,linewidth=0.2)"
      ]
    },
    {
      "cell_type": "markdown",
      "metadata": {
        "id": "vEB9w0W5_M40"
      },
      "source": [
        "SALES_PRICE is the target.so some features have strong co-relation with respect to sales price those are INT_SQFT,N_BEDROOM,N_BATHROOM,N_ROOMS.\n",
        "\n",
        "Some features have weekest co-relation those are QS_ROOMS,QS_BATHROOM,QS_BEDROOM,QS_ROOMS,QS_OVERALL"
      ]
    },
    {
      "cell_type": "markdown",
      "metadata": {
        "id": "CtAwtyCQAOLh"
      },
      "source": [
        "*Checking* relationship between the AREA feature and SALES_PRICE Target columns"
      ]
    },
    {
      "cell_type": "code",
      "execution_count": null,
      "metadata": {
        "id": "d69jt7MG_Amw"
      },
      "outputs": [],
      "source": [
        "area_order=df.groupby('AREA')['SALES_PRICE'].mean().reset_index().sort_values('SALES_PRICE')['AREA']"
      ]
    },
    {
      "cell_type": "code",
      "execution_count": null,
      "metadata": {
        "id": "8Pxw1XmeRVOg"
      },
      "outputs": [],
      "source": [
        "sns.barplot(x='AREA',y='SALES_PRICE',data=df,order=area_order)\n",
        "plt.xticks(rotation=45) "
      ]
    },
    {
      "cell_type": "markdown",
      "metadata": {
        "id": "BvtYng2GAlQ-"
      },
      "source": [
        "Anna Nagar and T Nagar are the area's with highest sale-price\n"
      ]
    },
    {
      "cell_type": "code",
      "execution_count": null,
      "metadata": {
        "id": "jEKDACb3T48X"
      },
      "outputs": [],
      "source": [
        "df.groupby('AREA')['SALES_PRICE'].mean().plot()\n",
        "plt.title('AREA vs SALES_PRICE')\n",
        "plt.xlabel('AREA')\n",
        "plt.ylabel('SALES_PRICE')\n",
        "plt.xticks(rotation=45)\n",
        "plt.show()"
      ]
    },
    {
      "cell_type": "markdown",
      "metadata": {
        "id": "nwnAj4MoRvBK"
      },
      "source": [
        "Checking Relationship between SALES_COND and SALES_PRICE"
      ]
    },
    {
      "cell_type": "code",
      "execution_count": null,
      "metadata": {
        "id": "Wf4HcB2PChd3"
      },
      "outputs": [],
      "source": [
        "sale_cond_order=df.groupby('SALE_COND')['SALES_PRICE'].mean().reset_index().sort_values('SALES_PRICE')['SALE_COND']"
      ]
    },
    {
      "cell_type": "code",
      "execution_count": null,
      "metadata": {
        "id": "_kHfIuCCC17o"
      },
      "outputs": [],
      "source": [
        "sns.barplot(x='SALE_COND',y='SALES_PRICE',data=df,order=sale_cond_order)"
      ]
    },
    {
      "cell_type": "markdown",
      "metadata": {
        "id": "WcM96_e9dFmW"
      },
      "source": [
        "In SALE_COND there are slight variation"
      ]
    },
    {
      "cell_type": "code",
      "execution_count": null,
      "metadata": {
        "id": "fWk74zWkDXfz"
      },
      "outputs": [],
      "source": [
        "df.groupby('SALE_COND')['SALES_PRICE'].mean().plot()\n",
        "plt.title('SALE_COND vs SALES_PRICE')\n",
        "plt.xlabel('SALE_COND')\n",
        "plt.ylabel('SALES_PRICE')\n",
        "plt.xticks(rotation=45)\n",
        "plt.show()"
      ]
    },
    {
      "cell_type": "markdown",
      "metadata": {
        "id": "cZIbkBwYdSTX"
      },
      "source": [
        "Checking Relationship between PARK_FACIL and SALES_PRICE"
      ]
    },
    {
      "cell_type": "code",
      "execution_count": null,
      "metadata": {
        "id": "ymjr5FsbFuvp"
      },
      "outputs": [],
      "source": [
        "sns.barplot(x=\"PARK_FACIL\",y='SALES_PRICE',data=df)"
      ]
    },
    {
      "cell_type": "markdown",
      "metadata": {
        "id": "RLFbZ7c9dfkD"
      },
      "source": [
        "\n",
        "\n",
        "*Houses having Park Facility are more expencive than the house with no park facility\n",
        "\n"
      ]
    },
    {
      "cell_type": "code",
      "execution_count": null,
      "metadata": {
        "colab": {
          "background_save": true
        },
        "id": "DLd1RsnyGPfh"
      },
      "outputs": [],
      "source": [
        "df.groupby('PARK_FACIL')['SALES_PRICE'].mean().plot()\n",
        "plt.title('PARK_FACIL vs SALES_PRICE')\n",
        "plt.xlabel('PARK_FACIL')\n",
        "plt.ylabel('SALES_PRICE')\n",
        "plt.xticks(rotation=45)\n",
        "plt.show()"
      ]
    },
    {
      "cell_type": "markdown",
      "metadata": {
        "id": "Gvg0n666d3A-"
      },
      "source": [
        "Checking Relationship between BUILDTYPE and SALES_PRICE"
      ]
    },
    {
      "cell_type": "code",
      "execution_count": null,
      "metadata": {
        "colab": {
          "background_save": true
        },
        "id": "dkYpeSc0Gxz7"
      },
      "outputs": [],
      "source": [
        "buildtype_order=df.groupby('BUILDTYPE')['SALES_PRICE'].mean().reset_index().sort_values('SALES_PRICE')['BUILDTYPE']"
      ]
    },
    {
      "cell_type": "code",
      "execution_count": null,
      "metadata": {
        "colab": {
          "background_save": true
        },
        "id": "Kk8kHVczGcBZ"
      },
      "outputs": [],
      "source": [
        "sns.barplot(x='BUILDTYPE',y='SALES_PRICE',data=df,order=buildtype_order)"
      ]
    },
    {
      "cell_type": "markdown",
      "metadata": {
        "id": "i0eLzDEgeJms"
      },
      "source": [
        "COMMERCIAL buildtypes more expensive compared to house and other"
      ]
    },
    {
      "cell_type": "code",
      "execution_count": null,
      "metadata": {
        "colab": {
          "background_save": true
        },
        "id": "JKvAu-p3HkZX"
      },
      "outputs": [],
      "source": [
        "df.groupby('BUILDTYPE')['SALES_PRICE'].mean().plot()\n",
        "plt.title('BUILDTYPE vs SALES_PRICE')\n",
        "plt.xlabel('BUILDTYPE')\n",
        "plt.ylabel('SALES_PRICE')\n",
        "plt.xticks(rotation=45)\n",
        "plt.show()"
      ]
    },
    {
      "cell_type": "markdown",
      "metadata": {
        "id": "3hySUPXUeYJS"
      },
      "source": [
        "Checking Relationship between UTILITY_AVAIL and SALES_PRICE"
      ]
    },
    {
      "cell_type": "code",
      "execution_count": null,
      "metadata": {
        "colab": {
          "background_save": true
        },
        "id": "gMh399fAIEqy"
      },
      "outputs": [],
      "source": [
        "utility_avail_order=df.groupby('UTILITY_AVAIL')['SALES_PRICE'].mean().reset_index().sort_values('SALES_PRICE')['UTILITY_AVAIL']"
      ]
    },
    {
      "cell_type": "code",
      "execution_count": null,
      "metadata": {
        "colab": {
          "background_save": true
        },
        "id": "FBfMdEa5HwB1"
      },
      "outputs": [],
      "source": [
        "sns.barplot(x='UTILITY_AVAIL',y='SALES_PRICE',data=df)"
      ]
    },
    {
      "cell_type": "code",
      "execution_count": null,
      "metadata": {
        "colab": {
          "background_save": true
        },
        "id": "CHtRLPSGIXCx"
      },
      "outputs": [],
      "source": [
        "df.groupby('UTILITY_AVAIL')['SALES_PRICE'].mean().plot()\n",
        "plt.title('UTILITY_AVAIL vs SALES_PRICE')\n",
        "plt.xlabel('UTILITY_AVAIL')\n",
        "plt.ylabel('SALES_PRICE')\n",
        "plt.xticks(rotation=45)\n",
        "plt.show()"
      ]
    },
    {
      "cell_type": "markdown",
      "metadata": {
        "id": "6Ne1qCJfe4Zd"
      },
      "source": [
        "There is a good relationship between UTILITY_AVAIL and SALES_PRICE target.\n"
      ]
    },
    {
      "cell_type": "markdown",
      "metadata": {
        "id": "Xe3EUQhLfIgT"
      },
      "source": [
        "Checking Relationship between STREET and SALES_PRICE"
      ]
    },
    {
      "cell_type": "code",
      "execution_count": null,
      "metadata": {
        "colab": {
          "background_save": true
        },
        "id": "qIMTgSCjIy5S"
      },
      "outputs": [],
      "source": [
        "street_order=df.groupby('STREET')['SALES_PRICE'].mean().reset_index().sort_values('SALES_PRICE')['STREET']"
      ]
    },
    {
      "cell_type": "code",
      "execution_count": null,
      "metadata": {
        "colab": {
          "background_save": true
        },
        "id": "4GsGh4GVI7oY"
      },
      "outputs": [],
      "source": [
        "sns.barplot(x='STREET',y='SALES_PRICE',data=df,order=street_order)"
      ]
    },
    {
      "cell_type": "markdown",
      "metadata": {
        "id": "Zk9EbDvDfT3Z"
      },
      "source": [
        "GRAVEL STREET houde are more expensive than other street"
      ]
    },
    {
      "cell_type": "code",
      "execution_count": null,
      "metadata": {
        "colab": {
          "background_save": true
        },
        "id": "6pMncyh3JLWp"
      },
      "outputs": [],
      "source": [
        "df.groupby('STREET')['SALES_PRICE'].mean().plot()\n",
        "plt.title('STREET vs SALES_PRICE')\n",
        "plt.xlabel('STREET')\n",
        "plt.ylabel('SALES_PRICE')\n",
        "plt.xticks(rotation=45)\n",
        "plt.show()"
      ]
    },
    {
      "cell_type": "markdown",
      "metadata": {
        "id": "Bbp6NgXDfmom"
      },
      "source": [
        "Checking Relationship between MZZONE and SALES_PRICE"
      ]
    },
    {
      "cell_type": "code",
      "execution_count": null,
      "metadata": {
        "colab": {
          "background_save": true
        },
        "id": "O9I--V0bJXzE"
      },
      "outputs": [],
      "source": [
        "mzzone_order=df.groupby('MZZONE')['SALES_PRICE'].mean().reset_index().sort_values('SALES_PRICE')['MZZONE']"
      ]
    },
    {
      "cell_type": "code",
      "execution_count": null,
      "metadata": {
        "colab": {
          "background_save": true
        },
        "id": "ujONGeBkJm1e"
      },
      "outputs": [],
      "source": [
        "sns.barplot(x='MZZONE',y='SALES_PRICE',data=df,order=mzzone_order)"
      ]
    },
    {
      "cell_type": "markdown",
      "metadata": {
        "id": "1q38iK5efq1M"
      },
      "source": [
        "MZZONE with the values RM,RL,RH have higher sales_price than other values"
      ]
    },
    {
      "cell_type": "code",
      "execution_count": null,
      "metadata": {
        "colab": {
          "background_save": true
        },
        "id": "hWkQVeSSJzm8"
      },
      "outputs": [],
      "source": [
        "df.groupby('MZZONE')['SALES_PRICE'].mean().plot()\n",
        "plt.title('MZZONE vs SALES_PRICE') "
      ]
    },
    {
      "cell_type": "markdown",
      "metadata": {
        "id": "YZyv8s9_gENQ"
      },
      "source": [
        "Checking Relationship between N_BEDROOM  and SALES_PRICE"
      ]
    },
    {
      "cell_type": "code",
      "execution_count": null,
      "metadata": {
        "colab": {
          "background_save": true
        },
        "id": "x3CnjT-5KDmr"
      },
      "outputs": [],
      "source": [
        "n_bedroom_order=df.groupby('N_BEDROOM')['SALES_PRICE'].mean().reset_index().sort_values('SALES_PRICE')['N_BEDROOM']"
      ]
    },
    {
      "cell_type": "code",
      "execution_count": null,
      "metadata": {
        "colab": {
          "background_save": true
        },
        "id": "RL6rSlb7KN-2"
      },
      "outputs": [],
      "source": [
        "sns.barplot(x='N_BEDROOM',y='SALES_PRICE',data=df,order=n_bedroom_order)"
      ]
    },
    {
      "cell_type": "markdown",
      "metadata": {
        "id": "9fK5Ht_JgeSO"
      },
      "source": [
        " "
      ]
    },
    {
      "cell_type": "code",
      "execution_count": null,
      "metadata": {
        "colab": {
          "background_save": true
        },
        "id": "WBi9yI1PKgid"
      },
      "outputs": [],
      "source": [
        "df.groupby('N_BEDROOM')['SALES_PRICE'].mean().plot()\n",
        "plt.title('N_BEDROOM vs SALES_PRICE')\n",
        "plt.xlabel('N_BEDROOM')\n",
        "plt.ylabel('SALES_PRICE')\n",
        "plt.xticks(rotation=45)\n",
        "plt.show()"
      ]
    },
    {
      "cell_type": "code",
      "execution_count": null,
      "metadata": {
        "colab": {
          "background_save": true
        },
        "id": "JtvI5znPKz1F"
      },
      "outputs": [],
      "source": [
        "sns.barplot(x='N_BATHROOM',y='SALES_PRICE',data=df)"
      ]
    },
    {
      "cell_type": "code",
      "execution_count": null,
      "metadata": {
        "colab": {
          "background_save": true
        },
        "id": "MqFE5XOvK64u"
      },
      "outputs": [],
      "source": [
        "df.groupby('N_BATHROOM')['SALES_PRICE'].mean().plot()\n",
        "plt.title('N_BATHROOM vs SALES_PRICE')\n",
        "plt.xlabel('N_BATHROOM')\n",
        "plt.ylabel('SALES_PRICE')\n",
        "plt.xticks(rotation=45)\n",
        "plt.show()"
      ]
    },
    {
      "cell_type": "code",
      "execution_count": null,
      "metadata": {
        "colab": {
          "background_save": true
        },
        "id": "dSLjAQZlLLHX"
      },
      "outputs": [],
      "source": [
        "sns.barplot(x='N_ROOM',y='SALES_PRICE',data=df)"
      ]
    },
    {
      "cell_type": "code",
      "execution_count": null,
      "metadata": {
        "colab": {
          "background_save": true
        },
        "id": "y9VceitZLRLC"
      },
      "outputs": [],
      "source": [
        "df.groupby('N_ROOM')['SALES_PRICE'].mean().plot()\n",
        "plt.title('N_ROOM vs SALES_PRICE')\n",
        "plt.xlabel('N_ROOM')\n",
        "plt.ylabel('SALES_PRICE')\n",
        "plt.xticks(rotation=45)\n",
        "plt.show()"
      ]
    },
    {
      "cell_type": "code",
      "execution_count": null,
      "metadata": {
        "colab": {
          "background_save": true
        },
        "id": "uwSsQE9GLiTf"
      },
      "outputs": [],
      "source": [
        "sns.distplot(df['INT_SQFT'])"
      ]
    },
    {
      "cell_type": "code",
      "execution_count": null,
      "metadata": {
        "colab": {
          "background_save": true
        },
        "id": "-gVigdJmLyfJ"
      },
      "outputs": [],
      "source": [
        "sns.regplot(x='INT_SQFT',y='SALES_PRICE',data=df,scatter_kws={'color':'red'},line_kws={'color':'black'})"
      ]
    },
    {
      "cell_type": "code",
      "execution_count": null,
      "metadata": {
        "colab": {
          "background_save": true
        },
        "id": "MXo84Kk8NkL6"
      },
      "outputs": [],
      "source": [
        "sns.distplot(df['DIST_MAINROAD'])"
      ]
    },
    {
      "cell_type": "code",
      "execution_count": null,
      "metadata": {
        "colab": {
          "background_save": true
        },
        "id": "rlqwv-dSNs7t"
      },
      "outputs": [],
      "source": [
        "sns.regplot(x='DIST_MAINROAD',y='SALES_PRICE',data=df,scatter_kws={'color':'red'},line_kws={'color':'black'})"
      ]
    },
    {
      "cell_type": "code",
      "execution_count": null,
      "metadata": {
        "colab": {
          "background_save": true
        },
        "id": "s2qJ-3dxOP8f"
      },
      "outputs": [],
      "source": [
        "sns.distplot(df['QS_ROOMS'])"
      ]
    },
    {
      "cell_type": "code",
      "execution_count": null,
      "metadata": {
        "colab": {
          "background_save": true
        },
        "id": "uERv9XtEOX7S"
      },
      "outputs": [],
      "source": [
        "sns.regplot(x='QS_ROOMS',y='SALES_PRICE',data=df,scatter_kws={'color':'red'},line_kws={'color':'black'})"
      ]
    },
    {
      "cell_type": "code",
      "execution_count": null,
      "metadata": {
        "colab": {
          "background_save": true
        },
        "id": "p8BqqUnOOxst"
      },
      "outputs": [],
      "source": [
        "sns.distplot(df['QS_BEDROOM'])"
      ]
    },
    {
      "cell_type": "code",
      "execution_count": null,
      "metadata": {
        "colab": {
          "background_save": true
        },
        "id": "eI8nwuztO2Qr"
      },
      "outputs": [],
      "source": [
        "sns.regplot(x='QS_BEDROOM',y='SALES_PRICE',data=df,scatter_kws={'color':'red'},line_kws={'color':'black'})"
      ]
    },
    {
      "cell_type": "code",
      "execution_count": null,
      "metadata": {
        "colab": {
          "background_save": true
        },
        "id": "ee6zTyJGO2OJ"
      },
      "outputs": [],
      "source": [
        "sns.distplot(df['QS_BATHROOM'])"
      ]
    },
    {
      "cell_type": "code",
      "execution_count": null,
      "metadata": {
        "colab": {
          "background_save": true
        },
        "id": "3z5vv2tPO2LB"
      },
      "outputs": [],
      "source": [
        "sns.regplot(x='QS_BATHROOM',y='SALES_PRICE',data=df,scatter_kws={'color':'red'},line_kws={'color':'black'})"
      ]
    },
    {
      "cell_type": "code",
      "execution_count": null,
      "metadata": {
        "colab": {
          "background_save": true
        },
        "id": "__CpPD8ZO2DZ"
      },
      "outputs": [],
      "source": [
        "sns.distplot(df['QS_OVERALL'])"
      ]
    },
    {
      "cell_type": "code",
      "execution_count": null,
      "metadata": {
        "colab": {
          "background_save": true
        },
        "id": "Q6KpmAqxPWdl"
      },
      "outputs": [],
      "source": [
        "sns.regplot(x='AGE',y='SALES_PRICE',data=df,scatter_kws={'color':'red'},line_kws={'color':'black'})"
      ]
    },
    {
      "cell_type": "code",
      "execution_count": null,
      "metadata": {
        "colab": {
          "background_save": true
        },
        "id": "xfLTkf4sPWad"
      },
      "outputs": [],
      "source": [
        "df.drop(['QS_OVERALL','QS_ROOMS','QS_BATHROOM','QS_BEDROOM','DIST_MAINROAD','DATE_BUILD','DATE_SALE','SALE_COND'],axis=1,inplace=True)"
      ]
    },
    {
      "cell_type": "code",
      "execution_count": null,
      "metadata": {
        "colab": {
          "background_save": true
        },
        "id": "2WfJuPlrPWXC"
      },
      "outputs": [],
      "source": [
        "df.head()"
      ]
    },
    {
      "cell_type": "code",
      "execution_count": null,
      "metadata": {
        "colab": {
          "background_save": true
        },
        "id": "RfM9AEaIPWUH"
      },
      "outputs": [],
      "source": [
        "df.PARK_FACIL=df.PARK_FACIL.map({'Yes':1,'No':0})"
      ]
    },
    {
      "cell_type": "code",
      "execution_count": null,
      "metadata": {
        "colab": {
          "background_save": true
        },
        "id": "hVGKYMlWUaJm"
      },
      "outputs": [],
      "source": [
        "df=pd.get_dummies(df,columns=[\"BUILDTYPE\",\"AREA\",\"UTILITY_AVAIL\",\"STREET\",\"MZZONE\"])\n",
        "df.head()"
      ]
    },
    {
      "cell_type": "markdown",
      "metadata": {
        "id": "p5pStKjPRTSn"
      },
      "source": []
    },
    {
      "cell_type": "code",
      "execution_count": null,
      "metadata": {
        "colab": {
          "background_save": true
        },
        "id": "m6lnnZicUZ1Q"
      },
      "outputs": [],
      "source": [
        "df.dtypes"
      ]
    },
    {
      "cell_type": "code",
      "execution_count": null,
      "metadata": {
        "colab": {
          "background_save": true
        },
        "id": "jOGlvOcrV-eH"
      },
      "outputs": [],
      "source": [
        "df['SALES_PRICE']=df['SALES_PRICE'].astype(int)"
      ]
    },
    {
      "cell_type": "code",
      "execution_count": null,
      "metadata": {
        "colab": {
          "background_save": true
        },
        "id": "e6vIWsdOWO7s"
      },
      "outputs": [],
      "source": [
        "df.head()"
      ]
    },
    {
      "cell_type": "code",
      "execution_count": null,
      "metadata": {
        "colab": {
          "background_save": true
        },
        "id": "IVtpmBthWX3d"
      },
      "outputs": [],
      "source": [
        "x=df.drop('SALES_PRICE',axis=1).values\n",
        "y=df['SALES_PRICE'].values"
      ]
    },
    {
      "cell_type": "code",
      "execution_count": null,
      "metadata": {
        "colab": {
          "background_save": true
        },
        "id": "86WOOyb4WXve"
      },
      "outputs": [],
      "source": [
        "x_train,x_test,y_train,y_test=train_test_split(x,y,test_size=0.2)"
      ]
    },
    {
      "cell_type": "code",
      "execution_count": null,
      "metadata": {
        "colab": {
          "background_save": true
        },
        "id": "n3q2m3ycWXsF"
      },
      "outputs": [],
      "source": [
        "scalar=StandardScaler()\n",
        "scalar.fit(x_train,y_train)\n",
        "x_train_scaled=scalar.transform(x_train)\n",
        "x_test_scaled=scalar.transform(x_test)"
      ]
    },
    {
      "cell_type": "code",
      "execution_count": null,
      "metadata": {
        "colab": {
          "background_save": true
        },
        "id": "hp0q--ygWXpJ"
      },
      "outputs": [],
      "source": [
        "regressor = LinearRegression()\n",
        "regressor.fit(x_train_scaled,y_train)"
      ]
    },
    {
      "cell_type": "code",
      "execution_count": null,
      "metadata": {
        "colab": {
          "background_save": true
        },
        "id": "569GyYPCZvNJ"
      },
      "outputs": [],
      "source": [
        "y_pred= regressor.predict(x_test_scaled)\n",
        "y_pred"
      ]
    },
    {
      "cell_type": "code",
      "execution_count": null,
      "metadata": {
        "colab": {
          "background_save": true
        },
        "id": "LxYICQEeaDRO"
      },
      "outputs": [],
      "source": [
        "print('R2-SCORE:',metrics.r2_score(y_test,y_pred))"
      ]
    },
    {
      "cell_type": "code",
      "execution_count": null,
      "metadata": {
        "colab": {
          "background_save": true
        },
        "id": "-SxjS4MIaDNt"
      },
      "outputs": [],
      "source": [
        "for i in [1,2,3,4,5,6,7,8,9,10,20,30]:\n",
        "  knn=KNeighborsRegressor(i)\n",
        "  knn.fit(x_train_scaled,y_train)\n",
        "  print(\"k value :\",i,\"train score :\",knn.score(x_train_scaled,y_train))"
      ]
    },
    {
      "cell_type": "code",
      "execution_count": null,
      "metadata": {
        "colab": {
          "background_save": true
        },
        "id": "Ur8VadNmaDKp"
      },
      "outputs": [],
      "source": []
    },
    {
      "cell_type": "code",
      "execution_count": null,
      "metadata": {
        "colab": {
          "background_save": true
        },
        "id": "2E7rdiIFaDHl"
      },
      "outputs": [],
      "source": []
    }
  ],
  "metadata": {
    "colab": {
      "collapsed_sections": [],
      "provenance": [],
      "authorship_tag": "ABX9TyN+qxeZggQ4WT/XzNDCG6rr",
      "include_colab_link": true
    },
    "kernelspec": {
      "display_name": "Python 3",
      "name": "python3"
    },
    "language_info": {
      "name": "python"
    }
  },
  "nbformat": 4,
  "nbformat_minor": 0
}